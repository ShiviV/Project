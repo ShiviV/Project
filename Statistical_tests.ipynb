{
 "cells": [
  {
   "cell_type": "code",
   "execution_count": 22,
   "metadata": {},
   "outputs": [],
   "source": [
    "import numpy as np\n",
    "from scipy.stats import ttest_1samp,ttest_ind,wilcoxon,mannwhitneyu,levene,shapiro\n",
    "from statsmodels.stats.power import ttest_power\n",
    "import matplotlib.pyplot as plt"
   ]
  },
  {
   "cell_type": "code",
   "execution_count": 4,
   "metadata": {},
   "outputs": [],
   "source": [
    "\n",
    "#daily intake of Sugar in Miligrams for 11 diabetic man\n",
    "daily_intake=np.array([5560,5770,7640,5180,5690,6435,6803,7869,6876,8213,8765])"
   ]
  },
  {
   "cell_type": "code",
   "execution_count": 5,
   "metadata": {},
   "outputs": [],
   "source": [
    "t_statistic,p_value= ttest_1samp(daily_intake,7600)\n"
   ]
  },
  {
   "cell_type": "code",
   "execution_count": 6,
   "metadata": {},
   "outputs": [
    {
     "name": "stdout",
     "output_type": "stream",
     "text": [
      "-2.2185358562915685 0.05082047790158664\n"
     ]
    }
   ],
   "source": [
    "print(t_statistic,p_value)"
   ]
  },
  {
   "cell_type": "code",
   "execution_count": 9,
   "metadata": {},
   "outputs": [],
   "source": [
    "#hence p<0.05 rejecting null hypothesis and accepting alternate hypothesis\n",
    "z_statistic,p_value=wilcoxon(daily_intake-7600)"
   ]
  },
  {
   "cell_type": "code",
   "execution_count": 10,
   "metadata": {},
   "outputs": [
    {
     "name": "stdout",
     "output_type": "stream",
     "text": [
      "12.5 0.06821657316330874\n"
     ]
    }
   ],
   "source": [
    "print(z_statistic,p_value)"
   ]
  },
  {
   "cell_type": "code",
   "execution_count": 11,
   "metadata": {},
   "outputs": [
    {
     "data": {
      "text/plain": [
       "-0.7015626376633353"
      ]
     },
     "execution_count": 11,
     "metadata": {},
     "output_type": "execute_result"
    }
   ],
   "source": [
    "#p>0.04 hence it follows a normal distribution\n",
    "#power of test\n",
    "(np.mean(daily_intake)-7600)/np.std(daily_intake)"
   ]
  },
  {
   "cell_type": "code",
   "execution_count": 14,
   "metadata": {},
   "outputs": [
    {
     "name": "stdout",
     "output_type": "stream",
     "text": [
      "0.5835176733152669\n"
     ]
    }
   ],
   "source": [
    "    print(ttest_power(-0.725,nobs=11,alpha=0.05, alternative='two-sided'))"
   ]
  },
  {
   "cell_type": "code",
   "execution_count": 17,
   "metadata": {},
   "outputs": [
    {
     "data": {
      "image/png": "[encoded data removed]",
      "text/plain": [
       "<Figure size 432x288 with 1 Axes>"
      ]
     },
     "metadata": {
      "needs_background": "light"
     },
     "output_type": "display_data"
    }
   ],
   "source": [
    "plt.boxplot(daily_intake)\n",
    "plt.show()"
   ]
  },
  {
   "cell_type": "code",
   "execution_count": 18,
   "metadata": {},
   "outputs": [],
   "source": [
    "#Two sample ttest\n",
    "weight=np.array([#sugar consumption in grams and stature(0=diabetic,1=non diabetic)\n",
    "[9.31,0],\n",
    "[7.76,0],\n",
    "[6.98,1],\n",
    "[7.88,1],\n",
    "[8.49,1],\n",
    "[10.05,1],\n",
    "[8.80,1],\n",
    "[10.88,1],\n",
    "[6.13,1],\n",
    "[7.90,1],\n",
    "[11.51,0],\n",
    "[12.59,0],\n",
    "[7.05,1],\n",
    "[11.85,0],\n",
    "[9.99,0],\n",
    "[7.48,0],\n",
    "[8.79,0],\n",
    "[8.69,1],\n",
    "[9.68,0],\n",
    "[8.58,1],\n",
    "[9.19,0],\n",
    "[8.11,1]])\n"
   ]
  },
  {
   "cell_type": "code",
   "execution_count": 19,
   "metadata": {},
   "outputs": [],
   "source": [
    "#pre and post exercise food energy intake\n",
    "intake=np.array([[5460,3980],[5230,4890],[5640,3885],[6180,5160],[6390,5645],[6512,4650],[6765,6109],[7515,5975],[7515,6790],\n",
    "                 [8230,6970],[8770,7335]])"
   ]
  },
  {
   "cell_type": "code",
   "execution_count": 24,
   "metadata": {},
   "outputs": [],
   "source": [
    "group1=weight[:,1]==0\n",
    "group1=weight[group1][:,0]"
   ]
  },
  {
   "cell_type": "code",
   "execution_count": 29,
   "metadata": {},
   "outputs": [],
   "source": [
    "group2=weight[:,1]==1\n",
    "group2=weight[group2][:,0]"
   ]
  },
  {
   "cell_type": "code",
   "execution_count": 32,
   "metadata": {},
   "outputs": [
    {
     "data": {
      "text/plain": [
       "array([ 9.31,  7.76, 11.51, 12.59, 11.85,  9.99,  7.48,  8.79,  9.68,\n",
       "        9.19])"
      ]
     },
     "execution_count": 32,
     "metadata": {},
     "output_type": "execute_result"
    }
   ],
   "source": [
    "group1"
   ]
  },
  {
   "cell_type": "code",
   "execution_count": 33,
   "metadata": {},
   "outputs": [
    {
     "data": {
      "text/plain": [
       "array([ 6.98,  7.88,  8.49, 10.05,  8.8 , 10.88,  6.13,  7.9 ,  7.05,\n",
       "        8.69,  8.58,  8.11])"
      ]
     },
     "execution_count": 33,
     "metadata": {},
     "output_type": "execute_result"
    }
   ],
   "source": [
    "group2\n"
   ]
  },
  {
   "cell_type": "code",
   "execution_count": 34,
   "metadata": {},
   "outputs": [
    {
     "name": "stdout",
     "output_type": "stream",
     "text": [
      "-2.2185358562915685 0.06821657316330874\n"
     ]
    }
   ],
   "source": [
    "t_statistic,p_value==ttest_ind(group1,group2)\n",
    "print(t_statistic,p_value)"
   ]
  },
  {
   "cell_type": "code",
   "execution_count": 36,
   "metadata": {},
   "outputs": [],
   "source": [
    "u,p_value=mannwhitneyu(group1,group2)"
   ]
  },
  {
   "cell_type": "code",
   "execution_count": 37,
   "metadata": {},
   "outputs": [
    {
     "name": "stdout",
     "output_type": "stream",
     "text": [
      "29.0 0.022156896141583025\n"
     ]
    }
   ],
   "source": [
    "print(u,p_value)"
   ]
  },
  {
   "cell_type": "code",
   "execution_count": 38,
   "metadata": {},
   "outputs": [],
   "source": [
    "pre=intake[:,0]\n",
    "post=intake[:,1]"
   ]
  },
  {
   "cell_type": "code",
   "execution_count": 39,
   "metadata": {},
   "outputs": [
    {
     "name": "stdout",
     "output_type": "stream",
     "text": [
      "-7.750633257827653 1.552189414812135e-05\n"
     ]
    }
   ],
   "source": [
    "#paired ttest and parameteric in nature\n",
    "t_statistic,p_value=ttest_1samp(post-pre,0)\n",
    "print(t_statistic,p_value)"
   ]
  },
  {
   "cell_type": "code",
   "execution_count": 41,
   "metadata": {},
   "outputs": [],
   "source": [
    "z_statistic,p_value=wilcoxon(post-pre)"
   ]
  },
  {
   "cell_type": "code",
   "execution_count": 42,
   "metadata": {},
   "outputs": [
    {
     "name": "stdout",
     "output_type": "stream",
     "text": [
      "0.0 0.0033456181158508813\n"
     ]
    }
   ],
   "source": [
    "print(z_statistic,p_value)"
   ]
  },
  {
   "cell_type": "code",
   "execution_count": 43,
   "metadata": {},
   "outputs": [
    {
     "data": {
      "text/plain": [
       "LeveneResult(statistic=0.05508687920155723, pvalue=0.8168231592315234)"
      ]
     },
     "execution_count": 43,
     "metadata": {},
     "output_type": "execute_result"
    }
   ],
   "source": [
    "levene(pre,post)"
   ]
  },
  {
   "cell_type": "code",
   "execution_count": 44,
   "metadata": {},
   "outputs": [
    {
     "data": {
      "text/plain": [
       "(0.9546877145767212, 0.7041629552841187)"
      ]
     },
     "execution_count": 44,
     "metadata": {},
     "output_type": "execute_result"
    }
   ],
   "source": [
    "shapiro(post)"
   ]
  },
  {
   "cell_type": "code",
   "execution_count": 45,
   "metadata": {},
   "outputs": [
    {
     "data": {
      "text/plain": [
       "(0.9533762335777283, 0.6872939467430115)"
      ]
     },
     "execution_count": 45,
     "metadata": {},
     "output_type": "execute_result"
    }
   ],
   "source": [
    "shapiro(pre)"
   ]
  },
  {
   "cell_type": "code",
   "execution_count": 48,
   "metadata": {},
   "outputs": [
    {
     "data": {
      "text/plain": [
       "0.7797048526975643"
      ]
     },
     "execution_count": 48,
     "metadata": {},
     "output_type": "execute_result"
    }
   ],
   "source": [
    "#power of test\n",
    "#for two sample pooled delta value instead of a single deviation for single sample test\n",
    "(np.mean(pre)-np.mean(post))/np.sqrt(((11-1)*np.var(pre)+(11-1)*np.var(post))/11+11-2)"
   ]
  },
  {
   "cell_type": "code",
   "execution_count": 51,
   "metadata": {},
   "outputs": [
    {
     "name": "stdout",
     "output_type": "stream",
     "text": [
      "0.6568678541496535\n"
     ]
    }
   ],
   "source": [
    "print(ttest_power(0.79,nobs=11,alpha=0.05,alternative=\"two-sided\"))"
   ]
  },
  {
   "cell_type": "code",
   "execution_count": null,
   "metadata": {},
   "outputs": [],
   "source": [
    "#Chi-square-test -test to find goodnes of fit for categorical variables\n"
   ]
  }
 ],
 "metadata": {
  "kernelspec": {
   "display_name": "Python 3",
   "language": "python",
   "name": "python3"
  },
  "language_info": {
   "codemirror_mode": {
    "name": "ipython",
    "version": 3
   },
   "file_extension": ".py",
   "mimetype": "text/x-python",
   "name": "python",
   "nbconvert_exporter": "python",
   "pygments_lexer": "ipython3",
   "version": "3.7.3"
  }
 },
 "nbformat": 4,
 "nbformat_minor": 2
}
